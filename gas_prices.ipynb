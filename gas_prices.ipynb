{
 "metadata": {
  "language_info": {
   "codemirror_mode": {
    "name": "ipython",
    "version": 3
   },
   "file_extension": ".py",
   "mimetype": "text/x-python",
   "name": "python",
   "nbconvert_exporter": "python",
   "pygments_lexer": "ipython3",
   "version": "3.7.6"
  },
  "orig_nbformat": 2,
  "kernelspec": {
   "name": "python376jvsc74a57bd0b8a5d93817ad051ca66a4d73da242b58aed142311a303246a4acc405e57e8aad",
   "display_name": "Python 3.7.6 64-bit ('base': conda)"
  }
 },
 "nbformat": 4,
 "nbformat_minor": 2,
 "cells": [
  {
   "cell_type": "code",
   "execution_count": 1,
   "metadata": {},
   "outputs": [],
   "source": [
    "import os\n",
    "import requests\n",
    "import csv\n",
    "import json\n",
    "\n"
   ]
  },
  {
   "cell_type": "code",
   "execution_count": 2,
   "metadata": {},
   "outputs": [],
   "source": [
    "def get_eia_data(time_granularity = 'Daily', api_key = None, path_folder = None ):\n",
    "    \"\"\"\n",
    "    This function allows us to obtain the gas prices. it could be the daily , weekley, monthly or annually prices. \n",
    "    the database will be saved in csv file located in the  path_folder. \n",
    "     \n",
    "    Parameters:\n",
    "    ----------\n",
    "    time_granularuty: str, Optional\n",
    "                      values = [\"Daily\", \"Weekly\", \"Monthly\",\"Annually\"] \n",
    "    api_key: str, Confidential key\n",
    "            You’ll need an API key to query the API.\n",
    "            once registered here : https://www.eia.gov/opendata/register.php, you will receive a code by email.\n",
    "\n",
    "    path_folder: the path to the folder that will contain the csv file.\n",
    "    Returns:\n",
    "    -------\n",
    "\n",
    "\n",
    "    \"\"\"\n",
    "    # Series_id contains the different granularities of duration\n",
    "    series_id = {\"Daily\":  \"NG.RNGWHHD.D\",\n",
    "    \"Weekly\":  \"NG.RNGWHHD.W\",\n",
    "    \"Monthly\" :  \"NG.RNGWHHD.M\",\n",
    "    \"Annually\" :  \"NG.RNGWHHD.A\"}\n",
    "    # url \n",
    "    url = \"https://api.eia.gov/series/?api_key={}&series_id=\".format(api_key) + series_id.get(time_granularity)\n",
    "    \n",
    "    # get content \n",
    "    content = requests.get(url).content\n",
    "\n",
    "    # a list of daily prices\n",
    "\n",
    "    data_eia = json.loads(content).get(\"series\")[0].get(\"data\")\n",
    "    \n",
    "    # headers \n",
    "    headers = [\"Date\",\"Prices\"]\n",
    "\n",
    "    # open a csv file\n",
    "    path = path_folder + \"{}_prices.csv\".format(time_granularity)\n",
    "    with open(path, mode = 'w', newline='') as f:\n",
    "        # the csv writer\n",
    "        writer = csv.writer(\n",
    "            f,\n",
    "            delimiter = ','           \n",
    "        )\n",
    "        # add headers to the csv file\n",
    "        writer.writerow(headers)\n",
    "        for row in data_eia:\n",
    "            writer.writerow(row) \n",
    "    print(\" The data is available under the name \" + \"{}_prices.csv\".format(time_granularity) + \" on \" + path_folder)\n",
    "   \n",
    "\n"
   ]
  },
  {
   "cell_type": "code",
   "execution_count": null,
   "metadata": {},
   "outputs": [],
   "source": [
    "\n",
    "# Test ! !\n",
    "get_eia_data(time_granularity = 'Daily', api_key = 'YOUR_API_KEY', path_folder = \"path_folder\" )"
   ]
  },
  {
   "cell_type": "code",
   "execution_count": null,
   "metadata": {},
   "outputs": [],
   "source": []
  },
  {
   "cell_type": "code",
   "execution_count": null,
   "metadata": {},
   "outputs": [],
   "source": []
  },
  {
   "cell_type": "code",
   "execution_count": null,
   "metadata": {},
   "outputs": [],
   "source": []
  }
 ]
}